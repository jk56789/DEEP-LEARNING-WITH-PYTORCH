{
 "cells": [
  {
   "cell_type": "markdown",
   "metadata": {},
   "source": [
    "## 3.1 지도학습"
   ]
  },
  {
   "cell_type": "markdown",
   "metadata": {},
   "source": [
    "##### 지도학습이란? 컴퓨터에게 정답(label)을 미리 알려주고 데이터를 학습시키는 방법\n",
    "##### 지도학습 두가지 방법: 분류, 회귀"
   ]
  },
  {
   "cell_type": "markdown",
   "metadata": {},
   "source": [
    "분류(classification): 데이터를 정해진 범주에 따라 분류"
   ]
  },
  {
   "cell_type": "markdown",
   "metadata": {},
   "source": [
    "회귀(regression): 데이터들의 특성(feature)을 기준으로 그래프로 표현 후 패턴이나 트렌드를 예측"
   ]
  },
  {
   "cell_type": "markdown",
   "metadata": {},
   "source": [
    "# 1.k-nearst neighbor(분류)\n",
    "### 기존 클러스터에서 데이터와 인스턴스 기반 '거리'를 측정한 후 가장 많은 속설을 가진 클러스터에 할당하는 분류 알고리즘\n",
    "### k값 선택이 중요"
   ]
  },
  {
   "cell_type": "code",
   "execution_count": 7,
   "metadata": {},
   "outputs": [],
   "source": [
    "#라이브러리 호출 및 데이터 준비\n",
    "\n",
    "import numpy as np \n",
    "import matplotlib.pyplot as plt\n",
    "import pandas as pd\n",
    "from sklearn import metrics\n",
    "\n",
    "dataset = pd.read_csv('C:/Users/dlwnr/data_science/deep_learning_pytorch/data/chap03/data/iris.data')\n",
    "names = ['sepal-length', 'sepal-width', 'petal-length', 'petal- width', 'class']"
   ]
  },
  {
   "cell_type": "code",
   "execution_count": 8,
   "metadata": {},
   "outputs": [
    {
     "data": {
      "text/html": [
       "<div>\n",
       "<style scoped>\n",
       "    .dataframe tbody tr th:only-of-type {\n",
       "        vertical-align: middle;\n",
       "    }\n",
       "\n",
       "    .dataframe tbody tr th {\n",
       "        vertical-align: top;\n",
       "    }\n",
       "\n",
       "    .dataframe thead th {\n",
       "        text-align: right;\n",
       "    }\n",
       "</style>\n",
       "<table border=\"1\" class=\"dataframe\">\n",
       "  <thead>\n",
       "    <tr style=\"text-align: right;\">\n",
       "      <th></th>\n",
       "      <th>5.1</th>\n",
       "      <th>3.5</th>\n",
       "      <th>1.4</th>\n",
       "      <th>0.2</th>\n",
       "      <th>Iris-setosa</th>\n",
       "    </tr>\n",
       "  </thead>\n",
       "  <tbody>\n",
       "    <tr>\n",
       "      <th>0</th>\n",
       "      <td>4.9</td>\n",
       "      <td>3.0</td>\n",
       "      <td>1.4</td>\n",
       "      <td>0.2</td>\n",
       "      <td>Iris-setosa</td>\n",
       "    </tr>\n",
       "    <tr>\n",
       "      <th>1</th>\n",
       "      <td>4.7</td>\n",
       "      <td>3.2</td>\n",
       "      <td>1.3</td>\n",
       "      <td>0.2</td>\n",
       "      <td>Iris-setosa</td>\n",
       "    </tr>\n",
       "    <tr>\n",
       "      <th>2</th>\n",
       "      <td>4.6</td>\n",
       "      <td>3.1</td>\n",
       "      <td>1.5</td>\n",
       "      <td>0.2</td>\n",
       "      <td>Iris-setosa</td>\n",
       "    </tr>\n",
       "    <tr>\n",
       "      <th>3</th>\n",
       "      <td>5.0</td>\n",
       "      <td>3.6</td>\n",
       "      <td>1.4</td>\n",
       "      <td>0.2</td>\n",
       "      <td>Iris-setosa</td>\n",
       "    </tr>\n",
       "    <tr>\n",
       "      <th>4</th>\n",
       "      <td>5.4</td>\n",
       "      <td>3.9</td>\n",
       "      <td>1.7</td>\n",
       "      <td>0.4</td>\n",
       "      <td>Iris-setosa</td>\n",
       "    </tr>\n",
       "    <tr>\n",
       "      <th>...</th>\n",
       "      <td>...</td>\n",
       "      <td>...</td>\n",
       "      <td>...</td>\n",
       "      <td>...</td>\n",
       "      <td>...</td>\n",
       "    </tr>\n",
       "    <tr>\n",
       "      <th>144</th>\n",
       "      <td>6.7</td>\n",
       "      <td>3.0</td>\n",
       "      <td>5.2</td>\n",
       "      <td>2.3</td>\n",
       "      <td>Iris-virginica</td>\n",
       "    </tr>\n",
       "    <tr>\n",
       "      <th>145</th>\n",
       "      <td>6.3</td>\n",
       "      <td>2.5</td>\n",
       "      <td>5.0</td>\n",
       "      <td>1.9</td>\n",
       "      <td>Iris-virginica</td>\n",
       "    </tr>\n",
       "    <tr>\n",
       "      <th>146</th>\n",
       "      <td>6.5</td>\n",
       "      <td>3.0</td>\n",
       "      <td>5.2</td>\n",
       "      <td>2.0</td>\n",
       "      <td>Iris-virginica</td>\n",
       "    </tr>\n",
       "    <tr>\n",
       "      <th>147</th>\n",
       "      <td>6.2</td>\n",
       "      <td>3.4</td>\n",
       "      <td>5.4</td>\n",
       "      <td>2.3</td>\n",
       "      <td>Iris-virginica</td>\n",
       "    </tr>\n",
       "    <tr>\n",
       "      <th>148</th>\n",
       "      <td>5.9</td>\n",
       "      <td>3.0</td>\n",
       "      <td>5.1</td>\n",
       "      <td>1.8</td>\n",
       "      <td>Iris-virginica</td>\n",
       "    </tr>\n",
       "  </tbody>\n",
       "</table>\n",
       "<p>149 rows × 5 columns</p>\n",
       "</div>"
      ],
      "text/plain": [
       "     5.1  3.5  1.4  0.2     Iris-setosa\n",
       "0    4.9  3.0  1.4  0.2     Iris-setosa\n",
       "1    4.7  3.2  1.3  0.2     Iris-setosa\n",
       "2    4.6  3.1  1.5  0.2     Iris-setosa\n",
       "3    5.0  3.6  1.4  0.2     Iris-setosa\n",
       "4    5.4  3.9  1.7  0.4     Iris-setosa\n",
       "..   ...  ...  ...  ...             ...\n",
       "144  6.7  3.0  5.2  2.3  Iris-virginica\n",
       "145  6.3  2.5  5.0  1.9  Iris-virginica\n",
       "146  6.5  3.0  5.2  2.0  Iris-virginica\n",
       "147  6.2  3.4  5.4  2.3  Iris-virginica\n",
       "148  5.9  3.0  5.1  1.8  Iris-virginica\n",
       "\n",
       "[149 rows x 5 columns]"
      ]
     },
     "execution_count": 8,
     "metadata": {},
     "output_type": "execute_result"
    }
   ],
   "source": [
    "dataset"
   ]
  },
  {
   "cell_type": "code",
   "execution_count": 16,
   "metadata": {},
   "outputs": [],
   "source": [
    "# 훈련,테스트 데이터셋 분리\n",
    "\n",
    "x = dataset.iloc[:,:-1].values \n",
    "y = dataset.iloc[:,4].values\n",
    "\n",
    "from sklearn.model_selection import train_test_split\n",
    "x_train,x_test,y_train,y_test = train_test_split(x,y, test_size = 0.20) \n",
    "\n",
    "from sklearn.preprocessing import StandardScaler\n",
    "s = StandardScaler() #스케일링, 평균0/표준편차1이 되도록 변환\n",
    "x_train = s.fit_transform(x_train)\n",
    "x_test = s.fit_transform(x_test)"
   ]
  },
  {
   "cell_type": "markdown",
   "metadata": {},
   "source": [
    "x_train과 y_train을 사용해 모델을 만들고 x_test를 모델에 넣어 y_pred를 구하고 y_pred와 y_test를 비교하여 정확도를 구한다."
   ]
  },
  {
   "cell_type": "code",
   "execution_count": 17,
   "metadata": {},
   "outputs": [
    {
     "data": {
      "text/plain": [
       "KNeighborsClassifier(n_neighbors=50)"
      ]
     },
     "execution_count": 17,
     "metadata": {},
     "output_type": "execute_result"
    }
   ],
   "source": [
    "# 모델 생성 및 훈련\n",
    "\n",
    "from sklearn.neighbors import KNeighborsClassifier\n",
    "knn = KNeighborsClassifier(n_neighbors=50) #k설정 및 모델 생성\n",
    "knn.fit(x_train,y_train) #모델훈련 "
   ]
  },
  {
   "cell_type": "code",
   "execution_count": 18,
   "metadata": {},
   "outputs": [
    {
     "name": "stdout",
     "output_type": "stream",
     "text": [
      "정확도 : 0.8\n"
     ]
    }
   ],
   "source": [
    "#모델 정확도 측정\n",
    "\n",
    "from sklearn.metrics import accuracy_score\n",
    "y_pred = knn.predict(x_test)\n",
    "print('정확도 : {}'.format(accuracy_score(y_test,y_pred)))"
   ]
  },
  {
   "cell_type": "code",
   "execution_count": 20,
   "metadata": {},
   "outputs": [
    {
     "name": "stdout",
     "output_type": "stream",
     "text": [
      "정확도 0.9666666666666667 으로 최적의 k는 1 입니다.\n"
     ]
    }
   ],
   "source": [
    "#최적의 k찾기\n",
    "k = 10\n",
    "acc_array = np.zeros(k)\n",
    "for  k in np.arange(1,k+1,1): #k는 1에서 10까지 값\n",
    "    classifier = KNeighborsClassifier(n_neighbors=k).fit(x_train,y_train) #for문을 반복하며 k값 변경\n",
    "    y_pred =classifier.predict(x_test)\n",
    "    acc = metrics.accuracy_score(y_test,y_pred)\n",
    "    acc_array[k-1] = acc\n",
    "\n",
    "max_acc = np.amax(acc_array)\n",
    "acc_list = list(acc_array)\n",
    "k = acc_list.index(max_acc)\n",
    "print('정확도',max_acc,'으로 최적의 k는',k+1,'입니다.')"
   ]
  },
  {
   "cell_type": "markdown",
   "metadata": {},
   "source": [
    "# 2.SVM_서포트 벡터 머신 (분류)\n",
    "### 분류를 위한 기준선을 정의하는 모델이다. 즉, 새로운 데이터가 나타나면 결정경계(기준선)를 기준으로 어느쪽에 속하는지 분류한다.\n",
    "### 커널선택 중요/ 텍스트분류"
   ]
  },
  {
   "cell_type": "markdown",
   "metadata": {},
   "source": [
    "### 마진: 결정경계와 서포트벡터 사이의 거리\n",
    "### 서포트 벡터: 결정경계와 가장 가까이 있는 데이터"
   ]
  },
  {
   "cell_type": "code",
   "execution_count": 24,
   "metadata": {},
   "outputs": [
    {
     "data": {
      "image/png": "[encoded data removed]",
      "text/plain": [
       "<Figure size 640x480 with 1 Axes>"
      ]
     },
     "metadata": {},
     "output_type": "display_data"
    }
   ],
   "source": [
    "import matplotlib.pyplot as plt\n",
    "import matplotlib.image as img\n",
    "\n",
    "image = img.imread('C:/Users/dlwnr/data_science/screenshot/img.png')\n",
    "plt.imshow(image)\n",
    "plt.show()"
   ]
  },
  {
   "cell_type": "markdown",
   "metadata": {},
   "source": [
    "## 최적의 결정경계는 마진을 최대로 해야한다.\n",
    "#### 이상치(outlier) 허용안한다=>하드마진(hard margin)\n",
    "####   허용한다=>소프트마진(soft margin)\n"
   ]
  },
  {
   "cell_type": "code",
   "execution_count": 34,
   "metadata": {},
   "outputs": [],
   "source": [
    "# 라이브러리 호출 \n",
    "from sklearn import svm\n",
    "from sklearn.svm import SVC\n",
    "from sklearn import metrics\n",
    "from sklearn import datasets\n",
    "from sklearn import model_selection\n",
    "import tensorflow as tf\n",
    "import os\n",
    "os.environ['TF_CPP_MIN_LOG_LEVEL']='3'#TF_CPP_MIN_LOG_LEVEL(환경변수)를 사용하여 로깅을 제어 #ERROR로그를 추가로 필터링\n"
   ]
  },
  {
   "cell_type": "code",
   "execution_count": 39,
   "metadata": {},
   "outputs": [],
   "source": [
    "#데이터 준비 및 훈련, 테스트데이터셋으로 분리\n",
    "iris = datasets.load_iris() #사이킷런에서 제공하는 iris 데이터호출\n",
    "x_train,x_test,y_train,y_test = model_selection.train_test_split(iris.data,\n",
    "                                                                iris.target,\n",
    "                                                                test_size=0.6,\n",
    "                                                                random_state=42)"
   ]
  },
  {
   "cell_type": "code",
   "execution_count": 46,
   "metadata": {},
   "outputs": [
    {
     "name": "stdout",
     "output_type": "stream",
     "text": [
      "정확도 : 0.988889\n"
     ]
    }
   ],
   "source": [
    "from sklearn import svm\n",
    "#SVM모델에 대한 정확도\n",
    "svm = svm.SVC(kernel='linear', C=1.0 ,gamma=0.5)\n",
    "svm.fit(x_train,y_train)#훈련데이터를 사용하여 SVM모델을 훈련\n",
    "predictioins = svm.predict(x_test)#훈련된 모델을 사용하여 예측\n",
    "score = metrics.accuracy_score(y_test,predictioins)\n",
    "print('정확도 : {0:f}'.format(score))\n"
   ]
  },
  {
   "cell_type": "markdown",
   "metadata": {},
   "source": [
    "#### 데이터가 선형분류로 해결이 된다면 좋지만 선형으로 해결이 되지 않는다면? \n",
    "비선형 문제를 해결하는 방법은 저차원 데이터를 고차원데이터로 보내는것(많은 수학적 계산 필요)\n",
    "이런한 문제를 해결해주고자\n",
    "커널트릭(kernel_trick)이 제시 되었다.\n",
    "\n"
   ]
  },
  {
   "cell_type": "markdown",
   "metadata": {},
   "source": [
    "##### 선형모델을 위한 커널: 선형(linear)커널   \n",
    "##### 비선형모델을 위한 커널: 가우시안BRF커널, 다항식(Poly)커널  \n",
    "###### 위의 커널은 추가적으로 배워야한다."
   ]
  },
  {
   "cell_type": "markdown",
   "metadata": {},
   "source": [
    "# 3.결정트리(분류)\n",
    "### 결정과정이 시각적으로 표현되기 때문에 머신러닝이 어떠한 방식으로 의사결정이 하는지 알고 싶을 때 사용\n",
    "### 이상치가 많은 값으로 구성된 데이터셋일 때 사용"
   ]
  },
  {
   "cell_type": "markdown",
   "metadata": {},
   "source": [
    "##### 결정트리는 데이터를 분류한 후에 각 영역의 순도(homogenieity)는 증가,불순도(impurity)와 불확실성(uncertainty)들은 감소 하는 방향으로 학습이 진행된다.\n",
    "        순도(homogenieity): 범주 안에서 같은 종류의 데이터만 존재, 서로 다른 데이터가 추가된다면 순도는 줄어들며 불순도는 올라간다.\n",
    "        엔트로피(entropy): 불확실성을 수치로 나타낸것 \n",
    "        지니계수(Gini index): 불순도를 측정하는 지표, 데이터의 통계적 '분산정도'를  정량화 하여 표현한 값. 즉, 원소n개 중에서 임으로 2개를 추출했을때 추출된 두개가 서로 다른 그룹에 있을 확률"
   ]
  },
  {
   "cell_type": "code",
   "execution_count": 30,
   "metadata": {},
   "outputs": [
    {
     "name": "stdout",
     "output_type": "stream",
     "text": [
      "             Survived  Pclass  \\\n",
      "PassengerId                     \n",
      "1                   0       3   \n",
      "2                   1       1   \n",
      "3                   1       3   \n",
      "4                   1       1   \n",
      "5                   0       3   \n",
      "\n",
      "                                                          Name     Sex   Age  \\\n",
      "PassengerId                                                                    \n",
      "1                                      Braund, Mr. Owen Harris    male  22.0   \n",
      "2            Cumings, Mrs. John Bradley (Florence Briggs Th...  female  38.0   \n",
      "3                                       Heikkinen, Miss. Laina  female  26.0   \n",
      "4                 Futrelle, Mrs. Jacques Heath (Lily May Peel)  female  35.0   \n",
      "5                                     Allen, Mr. William Henry    male  35.0   \n",
      "\n",
      "             SibSp  Parch            Ticket     Fare Cabin Embarked  \n",
      "PassengerId                                                          \n",
      "1                1      0         A/5 21171   7.2500   NaN        S  \n",
      "2                1      0          PC 17599  71.2833   C85        C  \n",
      "3                0      0  STON/O2. 3101282   7.9250   NaN        S  \n",
      "4                1      0            113803  53.1000  C123        S  \n",
      "5                0      0            373450   8.0500   NaN        S  \n"
     ]
    }
   ],
   "source": [
    "#라이브러리 호출 및 데이터 준비\n",
    "import pandas as pd\n",
    "df = pd.read_csv('C:/Users/dlwnr/data_science/deep_learning_pytorch/data/chap03/data/titanic/train.csv',index_col='PassengerId')\n",
    "print(df.head())\n"
   ]
  },
  {
   "cell_type": "code",
   "execution_count": 31,
   "metadata": {},
   "outputs": [
    {
     "data": {
      "text/plain": [
       "Index(['Survived', 'Pclass', 'Name', 'Sex', 'Age', 'SibSp', 'Parch', 'Ticket',\n",
       "       'Fare', 'Cabin', 'Embarked'],\n",
       "      dtype='object')"
      ]
     },
     "execution_count": 31,
     "metadata": {},
     "output_type": "execute_result"
    }
   ],
   "source": [
    "df.columns"
   ]
  },
  {
   "cell_type": "code",
   "execution_count": 33,
   "metadata": {},
   "outputs": [],
   "source": [
    "# 데이터 전처리\n",
    "df = df[['Pclass','Sex','Age', 'SibSp','Parch','Fare','Survived']] # 원하는 컬럼만 뽑기\n",
    "df['Sex'] = df['Sex'].map({'male':0,'female':1}) # 성별에서 female=1,male=0으로 바꿔준다.\n",
    "df=df.dropna() #894개의 데이터가 714개로 줄었다.\n",
    "x = df.drop('Survived',axis=1)  # 설명변수(independt variable)\n",
    "y = df['Survived']              # 종속변수(dependent variable)\n"
   ]
  },
  {
   "cell_type": "code",
   "execution_count": null,
   "metadata": {},
   "outputs": [],
   "source": []
  }
 ],
 "metadata": {
  "kernelspec": {
   "display_name": "Python 3.7.9 ('data_science': venv)",
   "language": "python",
   "name": "python3"
  },
  "language_info": {
   "codemirror_mode": {
    "name": "ipython",
    "version": 3
   },
   "file_extension": ".py",
   "mimetype": "text/x-python",
   "name": "python",
   "nbconvert_exporter": "python",
   "pygments_lexer": "ipython3",
   "version": "3.7.9"
  },
  "orig_nbformat": 4,
  "vscode": {
   "interpreter": {
    "hash": "bf1099e990e91e94eb4cafd9866453205093733f19978f203482b3ed7c0424ee"
   }
  }
 },
 "nbformat": 4,
 "nbformat_minor": 2
}
